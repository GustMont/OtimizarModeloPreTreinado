{
  "cells": [
    {
      "cell_type": "markdown",
      "metadata": {
        "id": "view-in-github",
        "colab_type": "text"
      },
      "source": [
        "<a href=\"https://colab.research.google.com/github/GustMont/OtimizarModeloPreTreinado/blob/main/Ponderada_Otimiza%C3%A7%C3%A3o_Semana3_GustavoMonteiro.ipynb\" target=\"_parent\"><img src=\"https://colab.research.google.com/assets/colab-badge.svg\" alt=\"Open In Colab\"/></a>"
      ]
    },
    {
      "cell_type": "markdown",
      "source": [
        "#Otimização de Modelo Pré-Treinado para Detecção de Fraudes em Cartões de Crédito\n"
      ],
      "metadata": {
        "id": "U5hXJpnx0D7J"
      }
    },
    {
      "cell_type": "markdown",
      "source": [
        "Aluno: Gustavo Monteiro"
      ],
      "metadata": {
        "id": "b1jZoqrWBhvq"
      }
    },
    {
      "cell_type": "markdown",
      "source": [
        "##Bibliotecas Utilizadas"
      ],
      "metadata": {
        "id": "7Tg4dr1f0MNY"
      }
    },
    {
      "cell_type": "code",
      "execution_count": 6,
      "metadata": {
        "id": "FuTDr5yPbFCZ"
      },
      "outputs": [],
      "source": [
        "import numpy as np\n",
        "import pandas as pd\n",
        "from sklearn.model_selection import train_test_split\n",
        "from sklearn.preprocessing import StandardScaler\n",
        "from sklearn.metrics import accuracy_score, recall_score, f1_score, roc_auc_score\n",
        "import tensorflow as tf\n",
        "from tensorflow.keras.models import Sequential\n",
        "from tensorflow.keras.layers import Dense\n",
        "import pandas as pd\n",
        "from sklearn.model_selection import train_test_split\n",
        "import random\n",
        "import numpy as np"
      ]
    },
    {
      "cell_type": "markdown",
      "source": [
        "## Carregamento e Divisão para Treino e Teste"
      ],
      "metadata": {
        "id": "5ytuIYEB0dIO"
      }
    },
    {
      "cell_type": "code",
      "execution_count": 7,
      "metadata": {
        "id": "MLE3m9S9h_DZ"
      },
      "outputs": [],
      "source": [
        "data = pd.read_csv('creditcard.csv')\n",
        "data_sample = data.sample(frac=0.1, random_state=42)\n",
        "\n",
        "X = data_sample.drop('Class', axis=1)\n",
        "y = data_sample['Class']\n",
        "\n",
        "X_train, X_test, y_train, y_test = train_test_split(X, y, test_size=0.3, random_state=42)"
      ]
    },
    {
      "cell_type": "markdown",
      "source": [
        "etapa onde os dados são carregados do arquivo creditcard.csv e uma amostra de 10% é selecionada para facilitar o treinamento. Os dados são então separados em variáveis de entrada (X) e alvo (y), e divididos em conjuntos de treinamento e teste, com 30% dos dados reservados para avaliação."
      ],
      "metadata": {
        "id": "31S5FAeg7fK1"
      }
    },
    {
      "cell_type": "markdown",
      "source": [
        "##Criação do Modelo Original"
      ],
      "metadata": {
        "id": "iUUIVkeW0jlf"
      }
    },
    {
      "cell_type": "code",
      "execution_count": 8,
      "metadata": {
        "id": "FQEXW3Utc0fZ"
      },
      "outputs": [],
      "source": [
        "def create_model(optimizer='adam', init_mode='uniform'):\n",
        "    model = Sequential()\n",
        "    model.add(tf.keras.Input(shape=(X_train.shape[1],)))\n",
        "    model.add(Dense(16, activation='relu', kernel_initializer=init_mode))\n",
        "    model.add(Dense(8, activation='relu', kernel_initializer=init_mode))\n",
        "    model.add(Dense(1, activation='sigmoid', kernel_initializer=init_mode))\n",
        "    model.compile(loss='binary_crossentropy', optimizer=optimizer, metrics=['accuracy'])\n",
        "    return model"
      ]
    },
    {
      "cell_type": "code",
      "execution_count": 9,
      "metadata": {
        "colab": {
          "base_uri": "https://localhost:8080/"
        },
        "id": "h6UEndpfc25z",
        "outputId": "c82f7507-2686-4682-9fca-511deacee775"
      },
      "outputs": [
        {
          "output_type": "stream",
          "name": "stdout",
          "text": [
            "Epoch 1/10\n",
            "\u001b[1m312/312\u001b[0m \u001b[32m━━━━━━━━━━━━━━━━━━━━\u001b[0m\u001b[37m\u001b[0m \u001b[1m3s\u001b[0m 3ms/step - accuracy: 0.9982 - loss: 0.0419\n",
            "Epoch 2/10\n",
            "\u001b[1m312/312\u001b[0m \u001b[32m━━━━━━━━━━━━━━━━━━━━\u001b[0m\u001b[37m\u001b[0m \u001b[1m1s\u001b[0m 2ms/step - accuracy: 0.9983 - loss: 0.0340\n",
            "Epoch 3/10\n",
            "\u001b[1m312/312\u001b[0m \u001b[32m━━━━━━━━━━━━━━━━━━━━\u001b[0m\u001b[37m\u001b[0m \u001b[1m1s\u001b[0m 2ms/step - accuracy: 0.9978 - loss: 0.0411\n",
            "Epoch 4/10\n",
            "\u001b[1m312/312\u001b[0m \u001b[32m━━━━━━━━━━━━━━━━━━━━\u001b[0m\u001b[37m\u001b[0m \u001b[1m1s\u001b[0m 2ms/step - accuracy: 0.9976 - loss: 0.0491\n",
            "Epoch 5/10\n",
            "\u001b[1m312/312\u001b[0m \u001b[32m━━━━━━━━━━━━━━━━━━━━\u001b[0m\u001b[37m\u001b[0m \u001b[1m1s\u001b[0m 2ms/step - accuracy: 0.9988 - loss: 0.0242\n",
            "Epoch 6/10\n",
            "\u001b[1m312/312\u001b[0m \u001b[32m━━━━━━━━━━━━━━━━━━━━\u001b[0m\u001b[37m\u001b[0m \u001b[1m1s\u001b[0m 2ms/step - accuracy: 0.9983 - loss: 0.0288\n",
            "Epoch 7/10\n",
            "\u001b[1m312/312\u001b[0m \u001b[32m━━━━━━━━━━━━━━━━━━━━\u001b[0m\u001b[37m\u001b[0m \u001b[1m1s\u001b[0m 2ms/step - accuracy: 0.9979 - loss: 0.0305\n",
            "Epoch 8/10\n",
            "\u001b[1m312/312\u001b[0m \u001b[32m━━━━━━━━━━━━━━━━━━━━\u001b[0m\u001b[37m\u001b[0m \u001b[1m1s\u001b[0m 2ms/step - accuracy: 0.9982 - loss: 0.0259\n",
            "Epoch 9/10\n",
            "\u001b[1m312/312\u001b[0m \u001b[32m━━━━━━━━━━━━━━━━━━━━\u001b[0m\u001b[37m\u001b[0m \u001b[1m1s\u001b[0m 2ms/step - accuracy: 0.9981 - loss: 0.0249\n",
            "Epoch 10/10\n",
            "\u001b[1m312/312\u001b[0m \u001b[32m━━━━━━━━━━━━━━━━━━━━\u001b[0m\u001b[37m\u001b[0m \u001b[1m1s\u001b[0m 2ms/step - accuracy: 0.9980 - loss: 0.0261\n",
            "\u001b[1m268/268\u001b[0m \u001b[32m━━━━━━━━━━━━━━━━━━━━\u001b[0m\u001b[37m\u001b[0m \u001b[1m0s\u001b[0m 1ms/step\n"
          ]
        }
      ],
      "source": [
        "model = create_model()\n",
        "\n",
        "model.fit(X_train, y_train, epochs=10, batch_size=64, verbose=1)\n",
        "\n",
        "y_pred = model.predict(X_test).ravel()\n",
        "y_pred_classes = (y_pred > 0.5).astype(int)"
      ]
    },
    {
      "cell_type": "markdown",
      "source": [
        "Foi criado um modelo de rede neural sequencial para a tarefa de classificação binária. O modelo possui três camadas densas: a primeira com 16 neurônios, a segunda com 8 neurônios e a terceira com um neurônio, que usa a função de ativação sigmoid para produzir a saída.\n",
        "\n",
        "O treinamento apresentou uma alta precisão de até 99.88%. Contudo, um dos principais problemas observados foi a possibilidade de overfitting. Overfitting"
      ],
      "metadata": {
        "id": "T1zJjUTM8Bal"
      }
    },
    {
      "cell_type": "markdown",
      "source": [
        "### Avaliação do modelo original"
      ],
      "metadata": {
        "id": "nyK30a5F05uX"
      }
    },
    {
      "cell_type": "code",
      "source": [
        "accuracy = accuracy_score(y_test, y_pred_classes)\n",
        "recall = recall_score(y_test, y_pred_classes)\n",
        "f1 = f1_score(y_test, y_pred_classes)\n",
        "auc_roc = roc_auc_score(y_test, y_pred)\n",
        "\n",
        "print(f'Original -> Accuracy: {accuracy:.4f}, Recall: {recall:.4f}, F1-Score: {f1:.4f}, AUC-ROC: {auc_roc:.4f}')"
      ],
      "metadata": {
        "colab": {
          "base_uri": "https://localhost:8080/"
        },
        "id": "w53vOxnz04Wz",
        "outputId": "7f1889d2-b1eb-4c02-801c-8309a2b648d5"
      },
      "execution_count": 10,
      "outputs": [
        {
          "output_type": "stream",
          "name": "stdout",
          "text": [
            "Original -> Accuracy: 0.9992, Recall: 0.0000, F1-Score: 0.0000, AUC-ROC: 0.7020\n"
          ]
        }
      ]
    },
    {
      "cell_type": "markdown",
      "source": [
        "A AUC-ROC, está em um nível razoável, mas ainda assim indica que o modelo pode não estar performando de maneira ideal para identificar a classe positiva.\n",
        "\n",
        " diferença entre a alta precisão e as baixas métricas de recall e F1-Score podem indicar overfitting, onde o modelo pode estar tendendo a prever predominantemente a classe negativa devido à sua predominância no conjunto de dados."
      ],
      "metadata": {
        "id": "r5kFpjql8dpK"
      }
    },
    {
      "cell_type": "markdown",
      "source": [
        "##Modelagem com Hiperparâmetros"
      ],
      "metadata": {
        "id": "NReUHaLw0_w4"
      }
    },
    {
      "cell_type": "code",
      "execution_count": 11,
      "metadata": {
        "colab": {
          "base_uri": "https://localhost:8080/"
        },
        "id": "M6MpB0yIdNJV",
        "outputId": "84818e91-7d3f-4aba-f931-8db20716bf25"
      },
      "outputs": [
        {
          "output_type": "stream",
          "name": "stdout",
          "text": [
            "Configuração 1/10 - Batch Size: 32, Epochs: 100, Optimizer: rmsprop, Init Mode: glorot_uniform\n",
            "\u001b[1m268/268\u001b[0m \u001b[32m━━━━━━━━━━━━━━━━━━━━\u001b[0m\u001b[37m\u001b[0m \u001b[1m0s\u001b[0m 1ms/step\n",
            "Configuração 1/10 - Accuracy: 0.9980, Recall: 0.2857, F1-Score: 0.1905, AUC-ROC: 0.7044\n",
            "Configuração 2/10 - Batch Size: 32, Epochs: 50, Optimizer: rmsprop, Init Mode: uniform\n",
            "\u001b[1m268/268\u001b[0m \u001b[32m━━━━━━━━━━━━━━━━━━━━\u001b[0m\u001b[37m\u001b[0m \u001b[1m1s\u001b[0m 3ms/step\n",
            "Configuração 2/10 - Accuracy: 0.9992, Recall: 0.0000, F1-Score: 0.0000, AUC-ROC: 0.6310\n",
            "Configuração 3/10 - Batch Size: 16, Epochs: 50, Optimizer: rmsprop, Init Mode: he_uniform\n",
            "\u001b[1m268/268\u001b[0m \u001b[32m━━━━━━━━━━━━━━━━━━━━\u001b[0m\u001b[37m\u001b[0m \u001b[1m0s\u001b[0m 1ms/step\n",
            "Configuração 3/10 - Accuracy: 0.9980, Recall: 0.2857, F1-Score: 0.1905, AUC-ROC: 0.6324\n",
            "Configuração 4/10 - Batch Size: 32, Epochs: 50, Optimizer: adam, Init Mode: he_uniform\n",
            "\u001b[1m268/268\u001b[0m \u001b[32m━━━━━━━━━━━━━━━━━━━━\u001b[0m\u001b[37m\u001b[0m \u001b[1m0s\u001b[0m 1ms/step\n",
            "Configuração 4/10 - Accuracy: 0.9977, Recall: 0.4286, F1-Score: 0.2308, AUC-ROC: 0.7060\n",
            "Configuração 5/10 - Batch Size: 16, Epochs: 100, Optimizer: rmsprop, Init Mode: glorot_uniform\n",
            "\u001b[1m268/268\u001b[0m \u001b[32m━━━━━━━━━━━━━━━━━━━━\u001b[0m\u001b[37m\u001b[0m \u001b[1m0s\u001b[0m 1ms/step\n",
            "Configuração 5/10 - Accuracy: 0.9984, Recall: 0.5714, F1-Score: 0.3636, AUC-ROC: 0.7758\n",
            "Configuração 6/10 - Batch Size: 16, Epochs: 10, Optimizer: rmsprop, Init Mode: he_uniform\n",
            "\u001b[1m268/268\u001b[0m \u001b[32m━━━━━━━━━━━━━━━━━━━━\u001b[0m\u001b[37m\u001b[0m \u001b[1m0s\u001b[0m 1ms/step\n",
            "Configuração 6/10 - Accuracy: 0.9984, Recall: 0.2857, F1-Score: 0.2222, AUC-ROC: 0.6323\n",
            "Configuração 7/10 - Batch Size: 16, Epochs: 50, Optimizer: rmsprop, Init Mode: uniform\n",
            "\u001b[1m268/268\u001b[0m \u001b[32m━━━━━━━━━━━━━━━━━━━━\u001b[0m\u001b[37m\u001b[0m \u001b[1m0s\u001b[0m 1ms/step\n",
            "Configuração 7/10 - Accuracy: 0.9992, Recall: 0.0000, F1-Score: 0.0000, AUC-ROC: 0.6695\n",
            "Configuração 8/10 - Batch Size: 32, Epochs: 50, Optimizer: rmsprop, Init Mode: he_uniform\n",
            "\u001b[1m268/268\u001b[0m \u001b[32m━━━━━━━━━━━━━━━━━━━━\u001b[0m\u001b[37m\u001b[0m \u001b[1m0s\u001b[0m 2ms/step\n",
            "Configuração 8/10 - Accuracy: 0.9981, Recall: 0.2857, F1-Score: 0.2000, AUC-ROC: 0.6995\n",
            "Configuração 9/10 - Batch Size: 16, Epochs: 100, Optimizer: rmsprop, Init Mode: he_uniform\n",
            "\u001b[1m268/268\u001b[0m \u001b[32m━━━━━━━━━━━━━━━━━━━━\u001b[0m\u001b[37m\u001b[0m \u001b[1m1s\u001b[0m 2ms/step\n",
            "Configuração 9/10 - Accuracy: 0.9982, Recall: 0.4286, F1-Score: 0.2857, AUC-ROC: 0.7690\n",
            "Configuração 10/10 - Batch Size: 64, Epochs: 100, Optimizer: adam, Init Mode: uniform\n",
            "\u001b[1m268/268\u001b[0m \u001b[32m━━━━━━━━━━━━━━━━━━━━\u001b[0m\u001b[37m\u001b[0m \u001b[1m0s\u001b[0m 1ms/step\n",
            "Configuração 10/10 - Accuracy: 0.9992, Recall: 0.0000, F1-Score: 0.0000, AUC-ROC: 0.5054\n"
          ]
        }
      ],
      "source": [
        "batch_sizes = [16, 32, 64]\n",
        "epochs = [10, 50, 100]\n",
        "optimizers = ['adam', 'rmsprop']\n",
        "init_modes = ['uniform', 'he_uniform', 'glorot_uniform']\n",
        "\n",
        "best_accuracy = 0\n",
        "best_params = {}\n",
        "\n",
        "n_combinations = 10\n",
        "\n",
        "for i in range(n_combinations):\n",
        "    batch_size = random.choice(batch_sizes)\n",
        "    epoch = random.choice(epochs)\n",
        "    optimizer = random.choice(optimizers)\n",
        "    init_mode = random.choice(init_modes)\n",
        "\n",
        "    print(f'Configuração {i+1}/{n_combinations} - Batch Size: {batch_size}, Epochs: {epoch}, Optimizer: {optimizer}, Init Mode: {init_mode}')\n",
        "\n",
        "    model = create_model(optimizer=optimizer, init_mode=init_mode)\n",
        "    history = model.fit(X_train, y_train, epochs=epoch, batch_size=batch_size, verbose=0)\n",
        "\n",
        "    y_pred = model.predict(X_test).ravel()\n",
        "    y_pred_classes = (y_pred > 0.5).astype(int)\n",
        "\n",
        "    accuracy = accuracy_score(y_test, y_pred_classes)\n",
        "    recall = recall_score(y_test, y_pred_classes)\n",
        "    f1 = f1_score(y_test, y_pred_classes)\n",
        "    auc_roc = roc_auc_score(y_test, y_pred)\n",
        "\n",
        "    if accuracy > best_accuracy:\n",
        "        best_accuracy = accuracy\n",
        "        best_params = {\n",
        "            'batch_size': batch_size,\n",
        "            'epochs': epoch,\n",
        "            'optimizer': optimizer,\n",
        "            'init_mode': init_mode,\n",
        "            'recall': recall,\n",
        "            'f1': f1,\n",
        "            'auc_roc': auc_roc\n",
        "        }\n",
        "\n",
        "    print(f'Configuração {i+1}/{n_combinations} - Accuracy: {accuracy:.4f}, Recall: {recall:.4f}, F1-Score: {f1:.4f}, AUC-ROC: {auc_roc:.4f}')"
      ]
    },
    {
      "cell_type": "markdown",
      "source": [
        "Na etapa de modelagem com hiperparâmetros, a abordagem envolveu a variação de quatro hiperparâmetros principais: tamanho do lote (batch size), número de épocas (epochs), otimizador e modo de inicialização dos pesos. Foram testadas 10 combinações aleatórias desses parâmetros, escolhidas dentre as opções especificadas.\n",
        "\n",
        "Configurações com alta precisão, mas baixo recall e F1-Score, como a Configuração 2/10 e 7/10, indicam que o modelo pode estar tendo dificuldades para detectar instâncias da classe minoritária, apesar de uma precisão geral elevada.\n",
        "\n",
        "A Configuração 5/10 teve a maior precisão (accuracy) de 0.9984, além de um recall de 0.5714 e um F1-Score de 0.3636, refletindo um desempenho geral interessante em termos de detecção e balanceamento das classes. Outras configurações, como a 4/10 e a 9/10, também mostraram bom desempenho, especialmente em termos de recall e AUC-ROC, mostrando que a escolha dos parâmetros pode afetar significativamente a capacidade do modelo de identificar a classe minoritária e melhorar a capacidade de generalização.\n",
        "\n",
        "\n",
        "\n"
      ],
      "metadata": {
        "id": "zRkoPQ-h8xXD"
      }
    },
    {
      "cell_type": "markdown",
      "source": [
        "##Resultado Final"
      ],
      "metadata": {
        "id": "6D9pT3ZD1nIu"
      }
    },
    {
      "cell_type": "code",
      "source": [
        "print(f'\\nMelhor Accuracy: {best_accuracy:.4f} com parâmetros: {best_params}')"
      ],
      "metadata": {
        "colab": {
          "base_uri": "https://localhost:8080/"
        },
        "id": "_yQ2ic5y1pS1",
        "outputId": "e8fe616f-cc75-4d0d-e82f-36121f3e6668"
      },
      "execution_count": 12,
      "outputs": [
        {
          "output_type": "stream",
          "name": "stdout",
          "text": [
            "\n",
            "Melhor Accuracy: 0.9992 com parâmetros: {'batch_size': 32, 'epochs': 50, 'optimizer': 'rmsprop', 'init_mode': 'uniform', 'recall': 0.0, 'f1': 0.0, 'auc_roc': 0.630994210755279}\n"
          ]
        }
      ]
    },
    {
      "cell_type": "markdown",
      "source": [
        "O melhor desempenho foi alcançado com a seguinte configuração: tamanho de lote de 32, 50 épocas, o otimizador rmsprop, e o modo de inicialização uniform. Esta configuração resultou na maior precisão (accuracy) de 0.9992. Mas as métricas de recall, F1-Score e AUC-ROC para esta configuração indicam desafios na detecção da classe minoritária, com recall e F1-Score ambos iguais a 0, e AUC-ROC de ~0.6310."
      ],
      "metadata": {
        "id": "vDBk1mG-9r59"
      }
    },
    {
      "cell_type": "markdown",
      "source": [
        "##Discussão e Conclusão"
      ],
      "metadata": {
        "id": "CTjaJDik6Xb9"
      }
    },
    {
      "cell_type": "markdown",
      "source": [
        "Esses resultados indicam que, apesar de uma alta precisão geral, o modelo não está conseguindo detectar eficazmente a classe positiva, refletindo possíveis problemas de desequilíbrio de classe e uma limitação na capacidade do modelo de identificar fraudes. Os ajustes de hiperparâmetros puderam melhorar o resultado obtido no teste do modelo original, mas mesmo assim não foram suficientes para superar o desequilíbrio entre as classes. Esse desempenho destaca a necessidade de técnicas adicionais, como balanceamento de dados ou refinamento mais profundo dos hiperparâmetros, para melhorar a eficácia na detecção da classe minoritária."
      ],
      "metadata": {
        "id": "jdBrj1M3-A2B"
      }
    },
    {
      "cell_type": "markdown",
      "source": [
        "##Desafios Enfrentados"
      ],
      "metadata": {
        "id": "rKvEGOpO6ev3"
      }
    },
    {
      "cell_type": "markdown",
      "source": [
        "A indisponibilidade da biblioteca KerasClassifier dificultou a aplicação de técnicas automáticas de ajuste de hiperparâmetros, como grid search e random search. Sem o KerasClassifier, a otimização dos hiperparâmetros teve que ser realizada manualmente, o que aumentou a complexidade e o tempo necessário para a implementação.\n",
        "\n",
        "Além disso, o Google Colab, que foi utilizado para treinar o modelo, apresentou limitações de recursos computacionais que agravaram o problema. O processamento lento impactou negativamente a eficiência do treinamento e a capacidade de explorar diferentes configurações do modelo, prejudicando o avanço da implementação.\n",
        "\n",
        "Essa combinação de fatores não só dificultou o avanço na implementação do modelo, mas também levantou a necessidade de considerar soluções alternativas para lidar com grandes volumes de dados e otimizar o tempo de processamento."
      ],
      "metadata": {
        "id": "zYriUMHo_6XP"
      }
    },
    {
      "cell_type": "markdown",
      "source": [
        "## Próximos Passos"
      ],
      "metadata": {
        "id": "YMrZEtas6ccy"
      }
    },
    {
      "cell_type": "markdown",
      "source": [
        "É recomendável explorar técnicas de balanceamento de dados, como oversampling e undersampling, para corrigir o desequilíbrio entre as classes e melhorar a capacidade do modelo de identificar a classe positiva, além de revisar e melhorar o pré-processamento dos dados, incluindo normalização, padronização e seleção de características.\n",
        "\n",
        "Também se faz necessário explorar diferentes arquiteturas de rede neural que possam lidar com grandes volumes de dados, visto que o tempo para processar os dados atuais foi bastante elevado."
      ],
      "metadata": {
        "id": "xuzgRX16-kul"
      }
    }
  ],
  "metadata": {
    "colab": {
      "provenance": [],
      "authorship_tag": "ABX9TyP1lkhwco1i5aeaD4MoEvhs",
      "include_colab_link": true
    },
    "kernelspec": {
      "display_name": "Python 3",
      "name": "python3"
    },
    "language_info": {
      "name": "python"
    }
  },
  "nbformat": 4,
  "nbformat_minor": 0
}